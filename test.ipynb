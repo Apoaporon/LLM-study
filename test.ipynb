{
 "cells": [
  {
   "cell_type": "code",
   "execution_count": 1,
   "metadata": {},
   "outputs": [],
   "source": [
    "import os\n",
    "from dotenv import load_dotenv\n",
    "from langchain.chat_models import ChatOpenAI\n",
    "from langchain.llms import OpenAI\n",
    "from langchain.schema import SystemMessage, HumanMessage"
   ]
  },
  {
   "cell_type": "code",
   "execution_count": 5,
   "metadata": {},
   "outputs": [],
   "source": [
    "load_dotenv()\n",
    "api_key = os.getenv('API_KEY')\n"
   ]
  },
  {
   "cell_type": "code",
   "execution_count": 3,
   "metadata": {},
   "outputs": [
    {
     "name": "stderr",
     "output_type": "stream",
     "text": [
      "/Users/Aporo/Study/python/LLM-study/.venv/lib/python3.11/site-packages/langchain_core/_api/deprecation.py:117: LangChainDeprecationWarning: The class `langchain_community.llms.openai.OpenAI` was deprecated in langchain-community 0.0.10 and will be removed in 0.2.0. An updated version of the class exists in the langchain-openai package and should be used instead. To use it run `pip install -U langchain-openai` and import as `from langchain_openai import OpenAI`.\n",
      "  warn_deprecated(\n",
      "/Users/Aporo/Study/python/LLM-study/.venv/lib/python3.11/site-packages/langchain_core/_api/deprecation.py:117: LangChainDeprecationWarning: The function `__call__` was deprecated in LangChain 0.1.7 and will be removed in 0.2.0. Use invoke instead.\n",
      "  warn_deprecated(\n"
     ]
    },
    {
     "data": {
      "text/plain": [
       "'Python、JavaScript、Rust、Kotlin、Swift\\n\\n1. Python\\nPythonは、簡潔で読みやすい文法や豊富なライブラリが特徴のプログラミング言語です。データ分析や人工知能などの分野で広く使用されており、今後も需要が高まると考えられています。\\n\\n2. JavaScript\\nWeb開発に欠かせない言語であり、最近ではサーバーサイドやモバイルアプリ開発にも使用されるようになってきました。将来的にもWeb技術の発展とともに需要が高まることが予想されます。\\n\\n3. Rust\\nRustは、高いパフォーマンスと安全性を兼ね備えたシステムプログラミング言語です。近年、人工知能やIoTなどの領域でも注目を'"
      ]
     },
     "execution_count": 3,
     "metadata": {},
     "output_type": "execute_result"
    }
   ],
   "source": [
    "llm = OpenAI(temperature=0.7, api_key=api_key)\n",
    "text = \"2024年に学習するべきおすすめのプログラミング言語はなんですか？おすすめの言語：\"\n",
    "predict = llm(text)\n",
    "predict"
   ]
  },
  {
   "cell_type": "code",
   "execution_count": 4,
   "metadata": {},
   "outputs": [
    {
     "name": "stderr",
     "output_type": "stream",
     "text": [
      "/Users/Aporo/Study/python/LLM-study/.venv/lib/python3.11/site-packages/langchain_core/_api/deprecation.py:117: LangChainDeprecationWarning: The class `langchain_community.chat_models.openai.ChatOpenAI` was deprecated in langchain-community 0.0.10 and will be removed in 0.2.0. An updated version of the class exists in the langchain-openai package and should be used instead. To use it run `pip install -U langchain-openai` and import as `from langchain_openai import ChatOpenAI`.\n",
      "  warn_deprecated(\n",
      "/Users/Aporo/Study/python/LLM-study/.venv/lib/python3.11/site-packages/langchain_core/_api/deprecation.py:117: LangChainDeprecationWarning: The function `__call__` was deprecated in LangChain 0.1.7 and will be removed in 0.2.0. Use invoke instead.\n",
      "  warn_deprecated(\n"
     ]
    },
    {
     "data": {
      "text/plain": [
       "AIMessage(content='ITエンジニアが学ぶべきおすすめの言語を以下に挙げます。\\n\\n1. Java: オブジェクト指向プログラミングの基礎を学ぶための言語であり、大規模なアプリケーションの開発にも利用されます。\\n\\n2. Python: シンプルな構文と豊富なライブラリが特徴で、データ解析やAI、Web開発など幅広い分野で使われています。\\n\\n3. JavaScript: ウェブブラウザ上で動作するクライアントサイドのスクリプト言語です。フロントエンド開発やウェブアプリケーション開発に必須の言語です。\\n\\n4. C/C++: ハードウェアやシステムプログラミング、組み込みシステムなど、低レベルの開発に利用されます。パフォーマンスが要求される場合にも適しています。\\n\\n5. Ruby: シンプルな構文と高い可読性が特徴で、Web開発やスクリプト作成に利用されます。Ruby on Railsというフレームワークも人気があります。\\n\\nこれらの言語は、それぞれ異なる用途や目的に使用されますが、どれも幅広い分野での活躍が期待される言語です。エンジニアとしてのスキルを向上させるためには、これらの言語の基礎を学ぶことが重要です。')"
      ]
     },
     "execution_count": 4,
     "metadata": {},
     "output_type": "execute_result"
    }
   ],
   "source": [
    "chat = ChatOpenAI(model=\"gpt-3.5-turbo\", api_key=api_key)\n",
    "chat(\n",
    "    [\n",
    "        SystemMessage(content=\"日本語で回答してください\"),\n",
    "        HumanMessage(content=\"ITエンジニアについて学ぶべきおすすめの言語を5つ挙げてください\")\n",
    "    ]\n",
    "    )"
   ]
  },
  {
   "cell_type": "code",
   "execution_count": null,
   "metadata": {},
   "outputs": [],
   "source": []
  }
 ],
 "metadata": {
  "kernelspec": {
   "display_name": ".venv",
   "language": "python",
   "name": "python3"
  },
  "language_info": {
   "codemirror_mode": {
    "name": "ipython",
    "version": 3
   },
   "file_extension": ".py",
   "mimetype": "text/x-python",
   "name": "python",
   "nbconvert_exporter": "python",
   "pygments_lexer": "ipython3",
   "version": "3.11.4"
  }
 },
 "nbformat": 4,
 "nbformat_minor": 2
}
