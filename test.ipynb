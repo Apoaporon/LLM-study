{
 "cells": [
  {
   "cell_type": "code",
   "execution_count": 1,
   "metadata": {},
   "outputs": [],
   "source": [
    "import os\n",
    "from dotenv import load_dotenv\n",
    "from langchain.chat_models import ChatOpenAI\n",
    "from langchain.llms import OpenAI\n",
    "from langchain.schema import SystemMessage, HumanMessage"
   ]
  },
  {
   "cell_type": "code",
   "execution_count": 2,
   "metadata": {},
   "outputs": [],
   "source": [
    "load_dotenv()\n",
    "api_key = os.getenv('API_KEY')\n"
   ]
  },
  {
   "cell_type": "code",
   "execution_count": 3,
   "metadata": {},
   "outputs": [
    {
     "name": "stderr",
     "output_type": "stream",
     "text": [
      "/Users/Aporo/Study/python/LLM-study/.venv/lib/python3.11/site-packages/langchain_core/_api/deprecation.py:117: LangChainDeprecationWarning: The class `langchain_community.llms.openai.OpenAI` was deprecated in langchain-community 0.0.10 and will be removed in 0.2.0. An updated version of the class exists in the langchain-openai package and should be used instead. To use it run `pip install -U langchain-openai` and import as `from langchain_openai import OpenAI`.\n",
      "  warn_deprecated(\n",
      "/Users/Aporo/Study/python/LLM-study/.venv/lib/python3.11/site-packages/langchain_core/_api/deprecation.py:117: LangChainDeprecationWarning: The function `__call__` was deprecated in LangChain 0.1.7 and will be removed in 0.2.0. Use invoke instead.\n",
      "  warn_deprecated(\n"
     ]
    },
    {
     "data": {
      "text/plain": [
       "'\\n\\n1. Python\\nPythonは、機械学習やデータ分析などの分野で急速に人気が高まっているプログラミング言語です。シンプルな文法や豊富なライブラリ、幅広い応用範囲などが特徴であり、初心者にも学習しやすい言語として知られています。\\n\\n2. JavaScript\\nWeb開発において必須の言語であり、フロントエンドからバックエンドまで幅広い領域で使用されています。また、近年ではNode.jsというJavaScriptのフレームワークが登場し、サーバーサイド開発にも使用されるようになっています。\\n\\n3. Java\\nJavaは汎用性が高く、大規模なシステムやアプリケーションの開発に使用される'"
      ]
     },
     "execution_count": 3,
     "metadata": {},
     "output_type": "execute_result"
    }
   ],
   "source": [
    "llm = OpenAI(temperature=0.7, api_key=api_key)\n",
    "text = \"2024年に学習するべきおすすめのプログラミング言語はなんですか？おすすめの言語：\"\n",
    "predict = llm(text)\n",
    "predict"
   ]
  },
  {
   "cell_type": "code",
   "execution_count": 4,
   "metadata": {},
   "outputs": [
    {
     "name": "stderr",
     "output_type": "stream",
     "text": [
      "/Users/Aporo/Study/python/LLM-study/.venv/lib/python3.11/site-packages/langchain_core/_api/deprecation.py:117: LangChainDeprecationWarning: The class `langchain_community.chat_models.openai.ChatOpenAI` was deprecated in langchain-community 0.0.10 and will be removed in 0.2.0. An updated version of the class exists in the langchain-openai package and should be used instead. To use it run `pip install -U langchain-openai` and import as `from langchain_openai import ChatOpenAI`.\n",
      "  warn_deprecated(\n",
      "/Users/Aporo/Study/python/LLM-study/.venv/lib/python3.11/site-packages/langchain_core/_api/deprecation.py:117: LangChainDeprecationWarning: The function `__call__` was deprecated in LangChain 0.1.7 and will be removed in 0.2.0. Use invoke instead.\n",
      "  warn_deprecated(\n"
     ]
    },
    {
     "data": {
      "text/plain": [
       "AIMessage(content='ITエンジニアにとって学ぶべきおすすめの言語は以下の通りです。\\n\\n1. Java: オブジェクト指向プログラミングの基礎として広く使われており、大規模なアプリケーションやWebサービスの開発に適しています。\\n\\n2. Python: シンプルな文法と多くのライブラリがあるため、データ分析や機械学習などの分野で人気があります。\\n\\n3. JavaScript: Web開発に欠かせない言語であり、フロントエンドの開発やサーバーサイドの開発にも使用されます。\\n\\n4. C / C++: ハードウェアや組み込みシステムの開発において重要な役割を果たしています。また、高速な処理が必要なアプリケーションの開発にも適しています。\\n\\n5. Ruby: シンプルな文法と豊富なフレームワークがあり、Webアプリケーションの開発に適しています。また、Ruby on Railsというフレームワークが人気です。')"
      ]
     },
     "execution_count": 4,
     "metadata": {},
     "output_type": "execute_result"
    }
   ],
   "source": [
    "chat = ChatOpenAI(model=\"gpt-3.5-turbo\", api_key=api_key)\n",
    "chat(\n",
    "    [\n",
    "        SystemMessage(content=\"日本語で回答してください\"),\n",
    "        HumanMessage(content=\"ITエンジニアについて学ぶべきおすすめの言語を5つ挙げてください\")\n",
    "    ]\n",
    "    )"
   ]
  },
  {
   "cell_type": "code",
   "execution_count": null,
   "metadata": {},
   "outputs": [],
   "source": []
  }
 ],
 "metadata": {
  "kernelspec": {
   "display_name": ".venv",
   "language": "python",
   "name": "python3"
  },
  "language_info": {
   "codemirror_mode": {
    "name": "ipython",
    "version": 3
   },
   "file_extension": ".py",
   "mimetype": "text/x-python",
   "name": "python",
   "nbconvert_exporter": "python",
   "pygments_lexer": "ipython3",
   "version": "3.11.4"
  }
 },
 "nbformat": 4,
 "nbformat_minor": 2
}
