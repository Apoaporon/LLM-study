{
 "cells": [
  {
   "cell_type": "code",
   "execution_count": 27,
   "metadata": {},
   "outputs": [],
   "source": [
    "import openai\n",
    "import requests\n",
    "import json\n",
    "import math\n",
    "import os\n",
    "from dotenv import load_dotenv"
   ]
  },
  {
   "cell_type": "code",
   "execution_count": 28,
   "metadata": {},
   "outputs": [],
   "source": [
    "load_dotenv()\n",
    "openai.api_key = os.getenv('API_KEY')\n",
    "open_weather_api_key = os.getenv('OPEN_WEATHER_API_KEY')\n",
    "model = \"gpt-3.5-turbo-0613\" # 0613以降のバージョンでないとFunction callingは機能しません\n"
   ]
  },
  {
   "cell_type": "code",
   "execution_count": 29,
   "metadata": {},
   "outputs": [],
   "source": [
    "# OpenWeather で指定の都市の天気を取得する\n",
    "def get_current_weather(city_name=\"Tokyo\"):\n",
    "    # 都市の緯度、経度を取得する\n",
    "    geocoding_response = requests.get(\"http://api.openweathermap.org/geo/1.0/direct\", params={\n",
    "        \"q\": city_name + \",jp\",\n",
    "        \"limit\": 1,\n",
    "        \"appid\": open_weather_api_key\n",
    "    })\n",
    "    geocodings = geocoding_response.json()\n",
    "    geocoding = geocodings[0]\n",
    "    #print(geocoding)\n",
    "    lat, lon = geocoding[\"lat\"], geocoding[\"lon\"]\n",
    "\n",
    "    # 指定した緯度、経度の現在の天気を取得する\n",
    "    current_weather_response = requests.get(\"https://api.openweathermap.org/data/2.5/weather\", params={\n",
    "        \"lat\": lat,\n",
    "        \"lon\": lon,\n",
    "        \"units\": \"metric\",\n",
    "        \"lang\": \"ja\",\n",
    "        \"appid\": open_weather_api_key\n",
    "    })\n",
    "    current_weather = current_weather_response.json()\n",
    "    #print(current_weather)\n",
    "\n",
    "    return {\n",
    "        \"city_name\": city_name,\n",
    "        \"description\": current_weather[\"weather\"][0][\"description\"],\n",
    "        \"temparature\": math.floor(current_weather[\"main\"][\"temp\"])\n",
    "    }"
   ]
  },
  {
   "cell_type": "code",
   "execution_count": 91,
   "metadata": {},
   "outputs": [],
   "source": [
    "# 現在時刻を教えてくれる関数\n",
    "from datetime import datetime\n",
    "\n",
    "def get_current_datetime():\n",
    "    now = datetime.now()\n",
    "    current_date = now.strftime(\"%Y-%m-%d\") \n",
    "    return {\n",
    "        \"now_time\": current_date\n",
    "    }"
   ]
  },
  {
   "cell_type": "code",
   "execution_count": 92,
   "metadata": {},
   "outputs": [
    {
     "name": "stdout",
     "output_type": "stream",
     "text": [
      "{'city_name': '大阪', 'description': '薄い雲', 'temparature': 4}\n",
      "{'now_time': '2024-02-16'}\n"
     ]
    }
   ],
   "source": [
    "test_city = get_current_weather(\"大阪\")\n",
    "test_sports = get_current_datetime()\n",
    "print(test_city)\n",
    "print(test_sports)"
   ]
  },
  {
   "cell_type": "code",
   "execution_count": 93,
   "metadata": {},
   "outputs": [],
   "source": [
    "# function callingで利用する関数\n",
    "functions = [\n",
    "    # dictで関数を定義\n",
    "    {\n",
    "        # 外部関数の名前\n",
    "        \"name\": \"get_current_weather\",\n",
    "        # 外部関数の説明\n",
    "        \"description\": \"指定された都市の現在の天気を取得する\",\n",
    "        \n",
    "        \"parameters\": {\n",
    "            \"type\": \"object\",\n",
    "            # 外部関数の引数 = レスポンスに含まれるフィールド\n",
    "            \"properties\": {\n",
    "                \"city_name\": {\n",
    "                    \"type\": \"string\",\n",
    "                    \"description\": \"英語表記の都市名\",\n",
    "                },\n",
    "            },\n",
    "            # 必須のフィールド\n",
    "            \"required\": [\"city_name\"],\n",
    "        },\n",
    "    },\n",
    "    {\n",
    "        \"name\": \"get_current_datetime\",\n",
    "        \"description\":\"現在の日時を取得する\",\n",
    "        \"parameters\": {\n",
    "            \"type\":\"object\",\n",
    "            \"properties\": {\n",
    "                \"now_time\": {\n",
    "                    \"type\": \"string\",\n",
    "                    \"description\":\"現在日時\",\n",
    "                }\n",
    "            },\n",
    "            \"required\":[\"now_time\"],\n",
    "        },\n",
    "    },\n",
    "\n",
    "]"
   ]
  },
  {
   "cell_type": "code",
   "execution_count": 96,
   "metadata": {},
   "outputs": [],
   "source": [
    "def run_conversation(content, initial_messages=[]):\n",
    "# ステップ1: ユーザー入力と関数の定義を GPT に送る\n",
    "    user_message = {\"role\": \"user\", \"content\": content}\n",
    "    messages = initial_messages + [user_message]\n",
    "    print(\"ステップ1:\", \"ユーザー入力: \", user_message, \", 関数の定義: \", functions)\n",
    "    # chatCompletionsを呼び出すための呼び出し方に注意\n",
    "    # https://platform.openai.com/docs/guides/text-generation/chat-completions-api\n",
    "    response = openai.chat.completions.create(\n",
    "        model=\"gpt-3.5-turbo-0613\",\n",
    "        messages=messages,\n",
    "        functions=functions,\n",
    "        # auto にすると、使うべき関数を自動で判定してくれる\n",
    "        # もちろん入力内容によっては関数を使わなくてよいと判定されることもある\n",
    "        function_call=\"auto\",\n",
    "    )\n",
    "    # return response\n",
    "    response_message = response.choices[0].message\n",
    "    messages.append(response_message)\n",
    "    print(\"原型のデータ:\", response)\n",
    "    print(\"ステップ1.5:\", response.choices[0].message.content)\n",
    "    print(\"ステップ2:\", response_message)\n",
    "    # ステップ2: GPT が関数を呼ぶべきか判定したかどうか確認する\n",
    "    print(\"function_callingの利用確認:\", response_message.function_call)\n",
    "    # print(response_message.function_call.name) # ここに利用したfunction_callingの関数が入るが、ない場合エラーになるので割愛\n",
    "    print(\"必要情報の取得:\", json.loads(response_message.function_call.arguments))\n",
    "    if response_message.function_call:\n",
    "        function_name = response_message.function_call.name\n",
    "        function_args = json.loads(response_message.function_call.arguments)\n",
    "        print(function_args)\n",
    "        if function_name == \"get_current_weather\":\n",
    "            # ステップ3: 関数を実行する\n",
    "            city_name = function_args['city_name']\n",
    "            function_response = get_current_weather(city_name)\n",
    "            print(\"ステップ3:\", function_response)\n",
    "        elif function_name == \"get_current_datetime\":\n",
    "            current_time = function_args['now_time']\n",
    "            function_response = get_current_datetime()\n",
    "            print(\"ステップ3:\", function_response)\n",
    "            \n",
    "        function_result_message = {\n",
    "            # role は function にすることに注意\n",
    "            \"role\": \"function\",\n",
    "            \"name\": function_name,\n",
    "            # JSON を文字列に変換したときに日本語が \\u6771 のように Unicode になってしまうため、ensure_ascii=False にして回避する\n",
    "            \"content\": json.dumps(function_response, ensure_ascii=False),\n",
    "        }\n",
    "        # ステップ4: 実行した関数の名前と結果を GPT に送る\n",
    "        messages.append(function_result_message)\n",
    "        second_response = openai.chat.completions.create(\n",
    "            model=\"gpt-3.5-turbo-0613\",\n",
    "            messages=messages,\n",
    "        )\n",
    "        print(\"ステップ4:\", function_result_message)\n",
    "        # ステップ5: GPT からの回答を得る\n",
    "        print(\"ステップ5:\", second_response.choices[0].message.content)\n",
    "    return messages\n"
   ]
  },
  {
   "cell_type": "code",
   "execution_count": 97,
   "metadata": {},
   "outputs": [
    {
     "name": "stdout",
     "output_type": "stream",
     "text": [
      "ステップ1: ユーザー入力:  {'role': 'user', 'content': '現在の日時を教えてください'} , 関数の定義:  [{'name': 'get_current_weather', 'description': '指定された都市の現在の天気を取得する', 'parameters': {'type': 'object', 'properties': {'city_name': {'type': 'string', 'description': '英語表記の都市名'}}, 'required': ['city_name']}}, {'name': 'get_current_datetime', 'description': '現在の日時を取得する', 'parameters': {'type': 'object', 'properties': {'now_time': {'type': 'string', 'description': '現在日時'}}, 'required': ['now_time']}}]\n",
      "原型のデータ: ChatCompletion(id='chatcmpl-8srfZeYaFUHcCUtPvpoMvZ8livUpA', choices=[Choice(finish_reason='function_call', index=0, logprobs=None, message=ChatCompletionMessage(content=None, role='assistant', function_call=FunctionCall(arguments='{\\n  \"now_time\": \"2022-10-05T10:30:00\"\\n}', name='get_current_datetime'), tool_calls=None))], created=1708086709, model='gpt-3.5-turbo-0613', object='chat.completion', system_fingerprint=None, usage=CompletionUsage(completion_tokens=28, prompt_tokens=123, total_tokens=151))\n",
      "ステップ1.5: None\n",
      "ステップ2: ChatCompletionMessage(content=None, role='assistant', function_call=FunctionCall(arguments='{\\n  \"now_time\": \"2022-10-05T10:30:00\"\\n}', name='get_current_datetime'), tool_calls=None)\n",
      "function_callingの利用確認: FunctionCall(arguments='{\\n  \"now_time\": \"2022-10-05T10:30:00\"\\n}', name='get_current_datetime')\n",
      "必要情報の取得: {'now_time': '2022-10-05T10:30:00'}\n",
      "{'now_time': '2022-10-05T10:30:00'}\n",
      "ステップ3: {'now_time': '2024-02-16'}\n",
      "ステップ4: {'role': 'function', 'name': 'get_current_datetime', 'content': '{\"now_time\": \"2024-02-16\"}'}\n",
      "ステップ5: 現在の日時は2024年2月16日です。\n"
     ]
    }
   ],
   "source": [
    "# res = run_conversation(\"東京の天気を教えてください\")\n",
    "res2 = run_conversation(\"現在の日時を教えてください\")"
   ]
  },
  {
   "cell_type": "code",
   "execution_count": 51,
   "metadata": {},
   "outputs": [
    {
     "name": "stdout",
     "output_type": "stream",
     "text": [
      "ChatCompletionMessage(content=None, role='assistant', function_call=FunctionCall(arguments='{\\n  \"city_name\": \"Tokyo\"\\n}', name='get_current_weather'), tool_calls=None)\n"
     ]
    }
   ],
   "source": [
    "# print(type(res))\n",
    "# print(vars(res))\n",
    "# res_dict = res.__dict_\n",
    "test = res.choices[0].message\n",
    "print(test)"
   ]
  },
  {
   "cell_type": "code",
   "execution_count": null,
   "metadata": {},
   "outputs": [],
   "source": []
  }
 ],
 "metadata": {
  "kernelspec": {
   "display_name": ".venv",
   "language": "python",
   "name": "python3"
  },
  "language_info": {
   "codemirror_mode": {
    "name": "ipython",
    "version": 3
   },
   "file_extension": ".py",
   "mimetype": "text/x-python",
   "name": "python",
   "nbconvert_exporter": "python",
   "pygments_lexer": "ipython3",
   "version": "3.11.4"
  }
 },
 "nbformat": 4,
 "nbformat_minor": 2
}
